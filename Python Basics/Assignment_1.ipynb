{
 "cells": [
  {
   "cell_type": "markdown",
   "id": "c1e4c23d",
   "metadata": {},
   "source": [
    "### 1. In the below elements which of them are values or an expression? eg:- values can be integer or string and expressions will be mathematical operators. \\* ,'hello',-87.8,-,/,+,6 \n",
    "  \n",
    " \n",
    "**Ans:** \n",
    "\n",
    " Operators:*,-,/,+ \n",
    " \n",
    " Expressions: 'hello', -87.8, 6\n"
   ]
  },
  {
   "cell_type": "markdown",
   "id": "2a540aad",
   "metadata": {},
   "source": [
    "### 2. What is the difference between string and variable?\n",
    "**Ans:**\n",
    "\n",
    "A Variable is a storage for data,and a String is a data type that can be stored in a Variable.\n",
    "\n",
    "A String is a group of one or more characters enclosed withing single or double quotes. "
   ]
  },
  {
   "cell_type": "markdown",
   "id": "8aa43c1a",
   "metadata": {},
   "source": [
    "### 3. Describe three different data types.\n",
    "**Ans:**\n",
    "    Three different data types are:  \n",
    "        i) **int :**     data type to store integer values like 10,85,-98 etc.  \n",
    "        ii) **float:**  data type to store Floating point values i.e. values with decimal point like 10.0,85.35,-98.214 etc.  \n",
    "        iii) **boolean:** data type to store truth values . True or False.\n",
    "    \n",
    "  \n",
    "    \n",
    "    \n",
    "    \n",
    "\n",
    "    \n",
    "            "
   ]
  },
  {
   "cell_type": "markdown",
   "id": "0cbfda14",
   "metadata": {},
   "source": [
    "### 4. What is an expression made up of? What do all expressions do?\n",
    "**Ans:**\n",
    "\n",
    "An expression is a combination of operators and operands that is interpreted to produce some value.\n"
   ]
  },
  {
   "cell_type": "markdown",
   "id": "94edb455",
   "metadata": {},
   "source": [
    "### 5. This assignment statements, like spam = 10. What is the difference between an expression and a statement?\n",
    "**Ans:**\n",
    "An expression is a combination of operators and operands and always produces or returns a result value.\n",
    "Any instruction that a python interpreter can execute is called a Statement.\n",
    "\n",
    "consider the assignment statement \n",
    " `spam = 10`\n",
    "\n",
    "here, spam is a variable and 10 is a expression. The above statement tells the python interpreter to store the value  10 in a variable named spam.\n",
    "\n"
   ]
  },
  {
   "cell_type": "markdown",
   "id": "9d6d92f7",
   "metadata": {},
   "source": [
    "### 6. After running the following code, what does the variable bacon contain?\n",
    "``bacon = 22\n",
    "bacon + 1``\n",
    "\n",
    "**Ans**: \n",
    "bacon still contains the value 22, since in the increment statement `bacon+1` the result is not stored anywhere i.e. if we had the statement `bacon = bacon + 1` then the answer would be 23"
   ]
  },
  {
   "cell_type": "markdown",
   "id": "c859df5c",
   "metadata": {},
   "source": [
    "### 7. What should the values of the following two terms be?  \n",
    "``'spam' + 'spamspam'``  \n",
    "``'spam' * 3``\n",
    "\n",
    "**Ans:**\n",
    "They are concatenation operation and string muliplication operations respectively.  \n",
    "``'spam' + 'spamspam'`` would return the string \"spamspamspam\"  \n",
    "``'spam' * 3`` would return the string \"spamspamspam\"\n",
    "\n",
    "\n",
    "\n"
   ]
  },
  {
   "cell_type": "markdown",
   "id": "fb05c5df",
   "metadata": {},
   "source": [
    "### 8. Why is eggs a valid variable name while 100 is invalid?\n",
    "**Ans:** In python,Variable names cannot begin with a number, hence eggs is a valid variable name while 100 is not.  \n",
    "The python rules for naming a variable are :-\n",
    "    \n",
    "    Variable name must start with a letter or the underscore character.\n",
    "    Variable name cannot start with a number.\n",
    "    Variable name can only contain alpha-numeric characters and underscores (A-z, 0-9, & _ ).\n",
    "    Variable names are case-sensitive .\n",
    "    The reserved words(keywords) cannot be used naming the variable.\n",
    " "
   ]
  },
  {
   "cell_type": "markdown",
   "id": "a0364b7f",
   "metadata": {},
   "source": [
    "### 9. What three functions can be used to get the integer, floating-point number, or string version of a value?\n",
    "**Ans:**  \n",
    "    ``int()`` function can be used to get the integer  \n",
    "    ``float()`` function can be used to ge the floating point number,  \n",
    "    ``str()`` function can be used to get string version of a value"
   ]
  },
  {
   "cell_type": "markdown",
   "id": "3b6f8a95",
   "metadata": {},
   "source": [
    "### 10. Why does this expression cause an error? How can you fix it?\n",
    "``'I have eaten' + 99 + 'burritos'``  \n",
    "\n",
    "**Ans:**  \n",
    "    This causes an error because , + above is a concatenation operator and it expects both the operands to be string. But in the above expression 99 is not a string hence it gives an error.  \n",
    "    To fix it we can simply replace the 99 with ``str(99)``.  \n",
    "    Hence the expression now becomes ``'I have eaten' + str(99) + 'burritos'``"
   ]
  }
 ],
 "metadata": {
  "kernelspec": {
   "display_name": "Python 3 (ipykernel)",
   "language": "python",
   "name": "python3"
  },
  "language_info": {
   "codemirror_mode": {
    "name": "ipython",
    "version": 3
   },
   "file_extension": ".py",
   "mimetype": "text/x-python",
   "name": "python",
   "nbconvert_exporter": "python",
   "pygments_lexer": "ipython3",
   "version": "3.10.4"
  }
 },
 "nbformat": 4,
 "nbformat_minor": 5
}
