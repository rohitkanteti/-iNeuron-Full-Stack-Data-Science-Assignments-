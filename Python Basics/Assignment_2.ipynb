{
 "cells": [
  {
   "cell_type": "markdown",
   "id": "cbffbff2",
   "metadata": {},
   "source": [
    "## 1. What are the two values of the Boolean data type? How do you write them? \n",
    "\n",
    "**Ans:** The two values of boolean data type are : True and False. In python they are written as `True` and `False`."
   ]
  },
  {
   "cell_type": "markdown",
   "id": "2187a609",
   "metadata": {},
   "source": [
    "## 2. What are the three different types of Boolean operators?\n",
    "**Ans:** The three differnt types of Boolean operators in python are:  `or`, `and` ,`not`"
   ]
  },
  {
   "cell_type": "markdown",
   "id": "efc500e9",
   "metadata": {},
   "source": [
    "## 3. Make a list of each Boolean operator's truth tables (i.e. every possible combination of Boolean values for the operator and what it evaluate ).\n",
    "\n",
    "**Ans:**   \n",
    "\n",
    "Truth table for `and` operator  \n",
    "\n",
    "  True **and**  True = True    \n",
    "\n",
    "  True **and**  False = False   \n",
    "\n",
    "  False **and** True = False    \n",
    " \n",
    "  False **and** False = False    \n",
    " \n",
    "  \n",
    "Truth table for `or` operator  \n",
    "\n",
    "  True **or**  True = True    \n",
    "\n",
    "  True **or**  False = True   \n",
    "\n",
    "  False **or** True = True    \n",
    " \n",
    "  False **or** False = False     \n",
    "      \n",
    "        \n",
    "Truth table for `not` operator  \n",
    "\n",
    "  **not** False = True    \n",
    "\n",
    "  **not** True = False          \n",
    " \n",
    " \n",
    "\n",
    "\n"
   ]
  },
  {
   "cell_type": "markdown",
   "id": "7401fadc",
   "metadata": {},
   "source": [
    "## 4. What are the values of the following expressions?\n",
    "**Ans:**  \n",
    "(5 > 4) and (3 == 5)                => False  \n",
    "\n",
    "not (5 > 4)                         => False  \n",
    "\n",
    "(5 > 4) or (3 == 5)                 => True  \n",
    "\n",
    "not ((5 > 4) or (3 == 5))           => False  \n",
    "\n",
    "(True and True) and (True == False) => False  \n",
    "\n",
    "(not False) or (not True)           => True  \n",
    "\n",
    " "
   ]
  },
  {
   "cell_type": "markdown",
   "id": "d35df6a4",
   "metadata": {},
   "source": [
    "## 5. What are the six comparison operators?\n",
    "**Ans:**  \n",
    "The Six comparision operators available in python are:  \n",
    "`==` , `!=` , `<` , `>` , `<=` , `=>`"
   ]
  },
  {
   "cell_type": "markdown",
   "id": "ebd6b27e",
   "metadata": {},
   "source": [
    "## 6. How do you tell the difference between the equal to and assignment operators?Describe a condition and when you would use one.\n",
    "\n",
    "**Ans:**  \n",
    "`==` is the equal to operator that compares two values and evaluates to a Boolean and `=` is that assignment operator that is used to store a value in a variable.  \n",
    "\n",
    "if we want to check the equality of two variables then we use `==` (equal to operator)  \n",
    "if we want to assign a value to a variable we use `=` (assignment operator) "
   ]
  },
  {
   "cell_type": "code",
   "execution_count": 11,
   "id": "d788d552",
   "metadata": {},
   "outputs": [
    {
     "name": "stdout",
     "output_type": "stream",
     "text": [
      "Eligible\n"
     ]
    }
   ],
   "source": [
    "age = 20 # this is assignment operator which assigns the variable age with value 20\n",
    "if age==20: #comparing values of age to check if the value of age is 20 or not.\n",
    "    print('Eligible')\n",
    "else:\n",
    "    print('Not eligible')"
   ]
  },
  {
   "cell_type": "markdown",
   "id": "027a755c",
   "metadata": {},
   "source": [
    "## 7. Identify the three blocks in this code:\n"
   ]
  },
  {
   "cell_type": "code",
   "execution_count": 12,
   "id": "e8ccbd32",
   "metadata": {},
   "outputs": [
    {
     "name": "stdout",
     "output_type": "stream",
     "text": [
      "ham\n",
      "spam\n",
      "spam\n"
     ]
    }
   ],
   "source": [
    "spam = 0  \n",
    "if spam == 10:  \n",
    "    print('eggs')    # block 1\n",
    "if spam > 5:  \n",
    "    print('bacon')   # block 2\n",
    "else:  \n",
    "    print('ham')  \n",
    "    print('spam')   #block 3\n",
    "    print('spam')"
   ]
  },
  {
   "cell_type": "markdown",
   "id": "3de8ae30",
   "metadata": {},
   "source": [
    "## 8. Write code that prints Hello if 1 is stored in spam, prints Howdy if 2 is stored in spam, and prints Greetings! if anything else is stored in spam."
   ]
  },
  {
   "cell_type": "code",
   "execution_count": 13,
   "id": "01042edf",
   "metadata": {},
   "outputs": [
    {
     "name": "stdout",
     "output_type": "stream",
     "text": [
      "2\n",
      "Howdy\n"
     ]
    }
   ],
   "source": [
    "spam = int(input())\n",
    "if spam == 1:\n",
    "    print('Hello')\n",
    "elif spam==2:\n",
    "    print('Howdy')\n",
    "else:\n",
    "    print('Greetings!')"
   ]
  },
  {
   "cell_type": "markdown",
   "id": "7b8c07f7",
   "metadata": {},
   "source": [
    "## 9.If your programme is stuck in an endless loop, what keys you’ll press?\n",
    "\n",
    "**Ans:**  \n",
    "If the program is stuck in a endless loop , we have to press`` ctrl + c ``"
   ]
  },
  {
   "cell_type": "markdown",
   "id": "e8c09d17",
   "metadata": {},
   "source": [
    "## 10. How can you tell the difference between break and continue?\n",
    "\n",
    "**Ans:**  \n",
    "``break`` is used to stop the loop and continue with the code wriiten after the body of the loop.  \n",
    "``continue`` is used to skip executing the remaining body of the loop and start executing the next iteration.  \n"
   ]
  },
  {
   "cell_type": "code",
   "execution_count": 17,
   "id": "7f3a7929",
   "metadata": {},
   "outputs": [
    {
     "name": "stdout",
     "output_type": "stream",
     "text": [
      "0\n",
      "1\n",
      "2\n",
      "3\n",
      "4\n",
      "Done\n"
     ]
    }
   ],
   "source": [
    "# example for break => after i ==5 no number is printed and finally done is printed\n",
    "for i in range(10):\n",
    "    if i==5:\n",
    "        break\n",
    "    print(i)\n",
    "print('Done')"
   ]
  },
  {
   "cell_type": "code",
   "execution_count": 18,
   "id": "b0078864",
   "metadata": {},
   "outputs": [
    {
     "name": "stdout",
     "output_type": "stream",
     "text": [
      "0\n",
      "1\n",
      "2\n",
      "3\n",
      "4\n",
      "6\n",
      "7\n",
      "8\n",
      "9\n",
      "Done\n"
     ]
    }
   ],
   "source": [
    "# example for continue => all numners from 0 to 9 are printed except 5 and finally done is printed\n",
    "for i in range(10):\n",
    "    if i==5:\n",
    "        continue\n",
    "    print(i)\n",
    "print('Done')"
   ]
  },
  {
   "cell_type": "markdown",
   "id": "a839b2c8",
   "metadata": {},
   "source": [
    "## 11. In a for loop, what is the difference between range(10), range(0, 10), and range(0, 10, 1)?\n",
    "\n",
    "**Ans:**  \n",
    "``range(10)`` generates a list of values from 0 to 9 (both inclusive) . here 10 indicates that the limit is 10(excluded)  \n",
    "\n",
    "``range(0,10)`` generates a list of values from 0 to 9 (both inclusive) . here 0 indicates that the values start printing from 0  \n",
    "\n",
    "``range(0,10,1)`` generates a list of values from 0 to 9 (both inclusive) . here 1 indicated that the counter is incremented by 1 everytime  \n",
    "\n",
    "In general, ``range(start,end,step)``\n"
   ]
  },
  {
   "cell_type": "code",
   "execution_count": 21,
   "id": "fcda74e6",
   "metadata": {},
   "outputs": [
    {
     "name": "stdout",
     "output_type": "stream",
     "text": [
      "[0, 1, 2, 3, 4, 5, 6, 7, 8, 9]\n",
      "[0, 1, 2, 3, 4, 5, 6, 7, 8, 9]\n",
      "[0, 1, 2, 3, 4, 5, 6, 7, 8, 9]\n"
     ]
    }
   ],
   "source": [
    "print(list(range(10)))\n",
    "print(list(range(0,10)))\n",
    "print(list(range(0,10,1)))"
   ]
  },
  {
   "cell_type": "markdown",
   "id": "1538f8ae",
   "metadata": {},
   "source": [
    "## 12. Write a short program that prints the numbers 1 to 10 using a for loop. Then write an equivalent program that prints the numbers 1 to 10 using a while loop."
   ]
  },
  {
   "cell_type": "code",
   "execution_count": 22,
   "id": "444bd0fc",
   "metadata": {},
   "outputs": [
    {
     "name": "stdout",
     "output_type": "stream",
     "text": [
      "1\n",
      "2\n",
      "3\n",
      "4\n",
      "5\n",
      "6\n",
      "7\n",
      "8\n",
      "9\n",
      "10\n"
     ]
    }
   ],
   "source": [
    "# program using for loop\n",
    "for i in range(1,11):\n",
    "    print(i)"
   ]
  },
  {
   "cell_type": "code",
   "execution_count": 25,
   "id": "31a3b37d",
   "metadata": {},
   "outputs": [
    {
     "name": "stdout",
     "output_type": "stream",
     "text": [
      "1\n",
      "2\n",
      "3\n",
      "4\n",
      "5\n",
      "6\n",
      "7\n",
      "8\n",
      "9\n",
      "10\n"
     ]
    }
   ],
   "source": [
    "# program using while loop\n",
    "i = 1\n",
    "while i>0 and i<=10:\n",
    "    print(i)\n",
    "    i+=1"
   ]
  },
  {
   "cell_type": "markdown",
   "id": "54972f0b",
   "metadata": {},
   "source": [
    "## 13. If you had a function named bacon() inside a module named spam, how would you call it after importing spam?  \n",
    "**Ans**:  \n",
    "We can call the function ``bacon()`` using the following :    \n",
    "``from spam import bacon   \n",
    "  bacon()  ``  \n",
    "  \n",
    "  or   \n",
    "  \n",
    "  `` import spam  \n",
    "     spam.bacon()``  "
   ]
  }
 ],
 "metadata": {
  "kernelspec": {
   "display_name": "Python 3 (ipykernel)",
   "language": "python",
   "name": "python3"
  },
  "language_info": {
   "codemirror_mode": {
    "name": "ipython",
    "version": 3
   },
   "file_extension": ".py",
   "mimetype": "text/x-python",
   "name": "python",
   "nbconvert_exporter": "python",
   "pygments_lexer": "ipython3",
   "version": "3.10.4"
  }
 },
 "nbformat": 4,
 "nbformat_minor": 5
}
