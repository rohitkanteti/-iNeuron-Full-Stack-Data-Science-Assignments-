{
 "cells": [
  {
   "cell_type": "markdown",
   "id": "0b034fdf",
   "metadata": {},
   "source": [
    "## 1. Write a Python program to print \"Hello Python\"?\n"
   ]
  },
  {
   "cell_type": "code",
   "execution_count": 1,
   "id": "15b25c15",
   "metadata": {},
   "outputs": [
    {
     "name": "stdout",
     "output_type": "stream",
     "text": [
      "Hello Python\n"
     ]
    }
   ],
   "source": [
    "print(\"Hello Python\")"
   ]
  },
  {
   "cell_type": "markdown",
   "id": "83cdf82e",
   "metadata": {},
   "source": [
    "## 2. Write a Python program to do arithmetical operations addition and division.?"
   ]
  },
  {
   "cell_type": "code",
   "execution_count": 2,
   "id": "e9145f00",
   "metadata": {},
   "outputs": [
    {
     "name": "stdout",
     "output_type": "stream",
     "text": [
      "Enter a value5\n",
      "Enter b value3\n",
      "addition ans:  8\n",
      "Integer division ans: 1\n",
      "Floating point division ans 1.6666666666666667\n"
     ]
    }
   ],
   "source": [
    "a = int(input('Enter a value'))\n",
    "b = int(input('Enter b value'))\n",
    "\n",
    "print('addition ans: ',a+b)\n",
    "print('Integer division ans:',a//b)\n",
    "print('Floating point division ans',a/b)"
   ]
  },
  {
   "cell_type": "markdown",
   "id": "1732a3a8",
   "metadata": {},
   "source": [
    "## 3. Write a Python program to find the area of a triangle?"
   ]
  },
  {
   "cell_type": "code",
   "execution_count": 3,
   "id": "89d67c36",
   "metadata": {},
   "outputs": [
    {
     "name": "stdout",
     "output_type": "stream",
     "text": [
      "Enter base value of the triangle10\n",
      "Enter height value of the triangle5\n",
      "Area of the triangle is:  25.0\n"
     ]
    }
   ],
   "source": [
    "b = int(input('Enter base value of the triangle'))\n",
    "h = int(input('Enter height value of the triangle'))\n",
    "\n",
    "area = 0.5 * b * h\n",
    "print('Area of the triangle is: ',area)"
   ]
  },
  {
   "cell_type": "markdown",
   "id": "76d54a24",
   "metadata": {},
   "source": [
    "## 4. Write a Python program to swap two variables?"
   ]
  },
  {
   "cell_type": "code",
   "execution_count": 5,
   "id": "e2246606",
   "metadata": {},
   "outputs": [
    {
     "name": "stdout",
     "output_type": "stream",
     "text": [
      "Enter a value64\n",
      "Enter b value15\n",
      "Before swapping a=64,b=15\n",
      "After swapping a=15,b=64\n"
     ]
    }
   ],
   "source": [
    "a = int(input('Enter a value'))\n",
    "b = int(input('Enter b value'))\n",
    "\n",
    "print('Before swapping a={0},b={1}'.format(a,b))\n",
    "\n",
    "a,b = b,a\n",
    "\n",
    "print('After swapping a={0},b={1}'.format(a,b))\n"
   ]
  },
  {
   "cell_type": "markdown",
   "id": "e121f0b8",
   "metadata": {},
   "source": [
    "## 5. Write a Python program to generate a random number?"
   ]
  },
  {
   "cell_type": "code",
   "execution_count": 7,
   "id": "7009d9ab",
   "metadata": {},
   "outputs": [
    {
     "name": "stdout",
     "output_type": "stream",
     "text": [
      "565\n"
     ]
    }
   ],
   "source": [
    "import random\n",
    "\n",
    "print(random.randint(0,1000))"
   ]
  },
  {
   "cell_type": "code",
   "execution_count": 8,
   "id": "cec8ad86",
   "metadata": {},
   "outputs": [
    {
     "name": "stdout",
     "output_type": "stream",
     "text": [
      "200\n"
     ]
    }
   ],
   "source": [
    "print(random.randint(0,1000))"
   ]
  },
  {
   "cell_type": "code",
   "execution_count": 9,
   "id": "dc2ce81b",
   "metadata": {},
   "outputs": [
    {
     "name": "stdout",
     "output_type": "stream",
     "text": [
      "175\n"
     ]
    }
   ],
   "source": [
    "print(random.randint(0,1000))"
   ]
  }
 ],
 "metadata": {
  "kernelspec": {
   "display_name": "Python 3 (ipykernel)",
   "language": "python",
   "name": "python3"
  },
  "language_info": {
   "codemirror_mode": {
    "name": "ipython",
    "version": 3
   },
   "file_extension": ".py",
   "mimetype": "text/x-python",
   "name": "python",
   "nbconvert_exporter": "python",
   "pygments_lexer": "ipython3",
   "version": "3.10.4"
  }
 },
 "nbformat": 4,
 "nbformat_minor": 5
}
